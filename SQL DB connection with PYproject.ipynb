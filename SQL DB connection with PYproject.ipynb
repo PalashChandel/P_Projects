{
 "cells": [
  {
   "cell_type": "code",
   "execution_count": 1,
   "id": "82edc7fc-dc6f-42b7-bb10-4b09aee4f8a3",
   "metadata": {},
   "outputs": [
    {
     "name": "stdout",
     "output_type": "stream",
     "text": [
      "Defaulting to user installation because normal site-packages is not writeable\n",
      "Collecting pymysql\n",
      "  Downloading PyMySQL-1.1.1-py3-none-any.whl.metadata (4.4 kB)\n",
      "Downloading PyMySQL-1.1.1-py3-none-any.whl (44 kB)\n",
      "   ---------------------------------------- 0.0/45.0 kB ? eta -:--:--\n",
      "   ------------------ --------------------- 20.5/45.0 kB 320.0 kB/s eta 0:00:01\n",
      "   ------------------------------------ --- 41.0/45.0 kB 487.6 kB/s eta 0:00:01\n",
      "   ---------------------------------------- 45.0/45.0 kB 439.6 kB/s eta 0:00:00\n",
      "Installing collected packages: pymysql\n",
      "Successfully installed pymysql-1.1.1\n"
     ]
    }
   ],
   "source": [
    "!pip install pymysql"
   ]
  },
  {
   "cell_type": "code",
   "execution_count": 8,
   "id": "847d997c-2bbd-438e-8ed2-3999887b7e83",
   "metadata": {},
   "outputs": [
    {
     "name": "stdout",
     "output_type": "stream",
     "text": [
      "Defaulting to user installation because normal site-packages is not writeable\n",
      "Requirement already satisfied: mysql-connector-python in c:\\users\\thaku\\appdata\\roaming\\python\\python311\\site-packages (8.4.0)\n"
     ]
    }
   ],
   "source": [
    "!pip install mysql-connector-python\n"
   ]
  },
  {
   "cell_type": "code",
   "execution_count": 9,
   "id": "ccb2f0ca-62cf-4170-a37b-0df9dd91d033",
   "metadata": {},
   "outputs": [],
   "source": [
    "import pymysql"
   ]
  },
  {
   "cell_type": "code",
   "execution_count": 14,
   "id": "d5d047ee-58c4-43a7-a53e-3f0489590a52",
   "metadata": {},
   "outputs": [],
   "source": [
    "# def createConn():\n",
    "#     return(host==\"localhost\", database==\"sakila\",user==\"root\",password==\"\",port==3306)\n",
    "def createConn():\n",
    "    import mysql.connector\n",
    "    return mysql.connector.connect(\n",
    "        host=\"localhost\",\n",
    "        user=\"root\",\n",
    "        password=\"root\",\n",
    "        database=\"sakila\"\n",
    "    )"
   ]
  },
  {
   "cell_type": "code",
   "execution_count": 15,
   "id": "ee590f9d-0a87-4a21-b8ba-865ea7083b32",
   "metadata": {},
   "outputs": [],
   "source": []
  },
  {
   "cell_type": "code",
   "execution_count": 16,
   "id": "253ac4ce-ffa6-4c04-ad96-dc931fab0c59",
   "metadata": {},
   "outputs": [],
   "source": [
    "def createtable():\n",
    "    try:\n",
    "        conn = createConn()  # Ensure this function is defined elsewhere to establish a connection\n",
    "        cursor = conn.cursor()\n",
    "        query = \"\"\"\n",
    "        CREATE TABLE symbiosis (\n",
    "            id INT PRIMARY KEY AUTO_INCREMENT,\n",
    "            name VARCHAR(30),\n",
    "            profile VARCHAR(30)\n",
    "        )\n",
    "        \"\"\"\n",
    "        cursor.execute(query)\n",
    "        conn.commit()  # Corrected by adding parentheses\n",
    "        print(\"Table created successfully\")\n",
    "    except Exception as e:\n",
    "        print(f\"An error occurred: {e}\")\n",
    "    finally:\n",
    "        conn.close()"
   ]
  },
  {
   "cell_type": "code",
   "execution_count": 17,
   "id": "6cef7db0-8830-4823-ba69-1c1e602ed938",
   "metadata": {},
   "outputs": [
    {
     "name": "stdout",
     "output_type": "stream",
     "text": [
      "Table created successfully\n"
     ]
    }
   ],
   "source": [
    "createtable()"
   ]
  },
  {
   "cell_type": "code",
   "execution_count": null,
   "id": "cfedd4d1-dd46-4f82-b757-df13f9833a1c",
   "metadata": {},
   "outputs": [],
   "source": []
  }
 ],
 "metadata": {
  "kernelspec": {
   "display_name": "Python 3 (ipykernel)",
   "language": "python",
   "name": "python3"
  },
  "language_info": {
   "codemirror_mode": {
    "name": "ipython",
    "version": 3
   },
   "file_extension": ".py",
   "mimetype": "text/x-python",
   "name": "python",
   "nbconvert_exporter": "python",
   "pygments_lexer": "ipython3",
   "version": "3.11.7"
  }
 },
 "nbformat": 4,
 "nbformat_minor": 5
}
